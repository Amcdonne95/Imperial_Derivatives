{
 "cells": [
  {
   "cell_type": "code",
   "execution_count": 180,
   "metadata": {},
   "outputs": [
    {
     "data": {
      "text/html": [
       "<style>.container { width:95% !important; }</style>"
      ],
      "text/plain": [
       "<IPython.core.display.HTML object>"
      ]
     },
     "metadata": {},
     "output_type": "display_data"
    }
   ],
   "source": [
    "from IPython.core.display import display, HTML\n",
    "display(HTML(\"<style>.container { width:95% !important; }</style>\"))\n",
    "import pandas as pd\n",
    "import numpy as np\n",
    "from dateutil.relativedelta import relativedelta\n",
    "from datetime import datetime\n",
    "import plotly.plotly as py\n",
    "import plotly.graph_objs as go\n",
    "from scipy.optimize import fmin\n",
    "import math"
   ]
  },
  {
   "cell_type": "code",
   "execution_count": 72,
   "metadata": {},
   "outputs": [],
   "source": [
    "curr_date = '1993-12-31'\n",
    "curr_date = datetime.strptime(curr_date, '%Y-%m-%d')"
   ]
  },
  {
   "cell_type": "code",
   "execution_count": 73,
   "metadata": {},
   "outputs": [],
   "source": [
    "data = pd.read_csv('Rates_Table.txt', sep=\" \", header=None)\n",
    "df = data.T\n",
    "df.columns = df.iloc[0]\n",
    "df = df.reindex(df.index.drop(0))"
   ]
  },
  {
   "cell_type": "code",
   "execution_count": 74,
   "metadata": {},
   "outputs": [],
   "source": [
    "def calc_months(start_date, end_date):\n",
    "    months = relativedelta(end_date, start_date).years*12 + relativedelta(end_date, start_date).months\n",
    "    return months"
   ]
  },
  {
   "cell_type": "code",
   "execution_count": 75,
   "metadata": {},
   "outputs": [],
   "source": [
    "df['maturity'] = pd.to_datetime(df['maturity'], format='%Y%m%d')"
   ]
  },
  {
   "cell_type": "code",
   "execution_count": 78,
   "metadata": {},
   "outputs": [],
   "source": [
    "termlst = []\n",
    "for i in range(0, len(df.index)):\n",
    "    termlst.append(calc_months(curr_date, df['maturity'].iloc[i]))\n",
    "\n",
    "df['monthly_term'] = termlst\n",
    "df['num_payments'] = df['monthly_term'] / 6"
   ]
  },
  {
   "cell_type": "code",
   "execution_count": 210,
   "metadata": {},
   "outputs": [
    {
     "data": {
      "text/html": [
       "<div>\n",
       "<style scoped>\n",
       "    .dataframe tbody tr th:only-of-type {\n",
       "        vertical-align: middle;\n",
       "    }\n",
       "\n",
       "    .dataframe tbody tr th {\n",
       "        vertical-align: top;\n",
       "    }\n",
       "\n",
       "    .dataframe thead th {\n",
       "        text-align: right;\n",
       "    }\n",
       "</style>\n",
       "<table border=\"1\" class=\"dataframe\">\n",
       "  <thead>\n",
       "    <tr style=\"text-align: right;\">\n",
       "      <th></th>\n",
       "      <th>6 months</th>\n",
       "      <th>12 months</th>\n",
       "      <th>18  months</th>\n",
       "      <th>24 months</th>\n",
       "      <th>30 months</th>\n",
       "      <th>36 months</th>\n",
       "      <th>42 months</th>\n",
       "      <th>48  months</th>\n",
       "      <th>54 months</th>\n",
       "      <th>60 months</th>\n",
       "    </tr>\n",
       "  </thead>\n",
       "  <tbody>\n",
       "    <tr>\n",
       "      <th>Bid DF</th>\n",
       "      <td>0.971359</td>\n",
       "      <td>0.951355</td>\n",
       "      <td>0.959751</td>\n",
       "      <td>0.943429</td>\n",
       "      <td>0.909331</td>\n",
       "      <td>0.914870</td>\n",
       "      <td>0.810766</td>\n",
       "      <td>0.796219</td>\n",
       "      <td>0.801897</td>\n",
       "      <td>0.747683</td>\n",
       "    </tr>\n",
       "    <tr>\n",
       "      <th>Ask DF</th>\n",
       "      <td>0.971968</td>\n",
       "      <td>0.951950</td>\n",
       "      <td>0.960328</td>\n",
       "      <td>0.943988</td>\n",
       "      <td>0.909873</td>\n",
       "      <td>0.915392</td>\n",
       "      <td>0.811277</td>\n",
       "      <td>0.796720</td>\n",
       "      <td>0.802379</td>\n",
       "      <td>0.747641</td>\n",
       "    </tr>\n",
       "  </tbody>\n",
       "</table>\n",
       "</div>"
      ],
      "text/plain": [
       "        6 months  12 months  18  months  24 months  30 months  36 months  \\\n",
       "Bid DF  0.971359   0.951355    0.959751   0.943429   0.909331   0.914870   \n",
       "Ask DF  0.971968   0.951950    0.960328   0.943988   0.909873   0.915392   \n",
       "\n",
       "        42 months  48  months  54 months  60 months  \n",
       "Bid DF   0.810766    0.796219   0.801897   0.747683  \n",
       "Ask DF   0.811277    0.796720   0.802379   0.747641  "
      ]
     },
     "execution_count": 210,
     "metadata": {},
     "output_type": "execute_result"
    }
   ],
   "source": [
    "cf_matrix = np.zeros((10, 10))\n",
    "for i in list(range(0, 10)):\n",
    "    #print('i: ', i)\n",
    "    for j in list(range(0, 10)):\n",
    "        #print(j)\n",
    "        if i >= df['num_payments'].iloc[j]:\n",
    "            continue\n",
    "        cf_matrix[i][j] = df['coupon'].iloc[j]/2\n",
    "        #print(df['num_payments'].iloc[j])\n",
    "        if i == j:\n",
    "            cf_matrix[i][j] += 100\n",
    "#print(cf_matrix)\n",
    "bid_discount_factors = np.flip(np.linalg.inv(cf_matrix).dot(np.array(df.bid_price)))\n",
    "ask_discount_factors = np.flip(np.linalg.inv(cf_matrix).dot(np.array(df.ask_price)))\n",
    "pd.DataFrame([bid_discount_factors, ask_discount_factors], columns=['6 months', '12 months', '18  months', '24 months',\n",
    "                                                                   '30 months', '36 months', '42 months', '48  months', \n",
    "                                                                   '54 months', '60 months'], index=['Bid DF', 'Ask DF'])"
   ]
  },
  {
   "cell_type": "code",
   "execution_count": 176,
   "metadata": {},
   "outputs": [
    {
     "name": "stderr",
     "output_type": "stream",
     "text": [
      "C:\\Users\\austi\\Anaconda\\lib\\site-packages\\IPython\\core\\display.py:689: UserWarning:\n",
      "\n",
      "Consider using IPython.display.IFrame instead\n",
      "\n"
     ]
    },
    {
     "data": {
      "text/html": [
       "<iframe id=\"igraph\" scrolling=\"no\" style=\"border:none;\" seamless=\"seamless\" src=\"https://plot.ly/~amcdonne/73.embed\" height=\"525px\" width=\"100%\"></iframe>"
      ],
      "text/plain": [
       "<plotly.tools.PlotlyDisplay object>"
      ]
     },
     "execution_count": 176,
     "metadata": {},
     "output_type": "execute_result"
    }
   ],
   "source": [
    "trace0 = go.Scatter(\n",
    "    x = list(df.monthly_term),\n",
    "    y = bid_discount_factors,\n",
    "    mode = 'lines',\n",
    "    name = 'Bid-DF'\n",
    ")\n",
    "trace1 = go.Scatter(\n",
    "    x = list(df.monthly_term),\n",
    "    y = ask_discount_factors,\n",
    "    mode = 'lines',\n",
    "    name = 'Ask-DF'\n",
    ")\n",
    "data = [trace0, trace1]\n",
    "layout = dict(title = 'Discount Curves',\n",
    "              xaxis = dict(title = 'Month'),\n",
    "              yaxis = dict(title = 'Discount Rate'),\n",
    "              )\n",
    "fig = dict(data=data, layout=layout)\n",
    "py.iplot(fig, filename='bid-ask-DF_Curve')"
   ]
  },
  {
   "cell_type": "code",
   "execution_count": 165,
   "metadata": {},
   "outputs": [
    {
     "data": {
      "text/html": [
       "<div>\n",
       "<style scoped>\n",
       "    .dataframe tbody tr th:only-of-type {\n",
       "        vertical-align: middle;\n",
       "    }\n",
       "\n",
       "    .dataframe tbody tr th {\n",
       "        vertical-align: top;\n",
       "    }\n",
       "\n",
       "    .dataframe thead th {\n",
       "        text-align: right;\n",
       "    }\n",
       "</style>\n",
       "<table border=\"1\" class=\"dataframe\">\n",
       "  <thead>\n",
       "    <tr style=\"text-align: right;\">\n",
       "      <th></th>\n",
       "      <th>0</th>\n",
       "      <th>1</th>\n",
       "      <th>2</th>\n",
       "      <th>3</th>\n",
       "      <th>4</th>\n",
       "      <th>5</th>\n",
       "      <th>6</th>\n",
       "      <th>7</th>\n",
       "      <th>8</th>\n",
       "      <th>9</th>\n",
       "    </tr>\n",
       "  </thead>\n",
       "  <tbody>\n",
       "    <tr>\n",
       "      <th>0</th>\n",
       "      <td>100.0</td>\n",
       "      <td>7.625</td>\n",
       "      <td>4.125</td>\n",
       "      <td>4.25</td>\n",
       "      <td>7.875</td>\n",
       "      <td>6.125</td>\n",
       "      <td>6.375</td>\n",
       "      <td>6.0</td>\n",
       "      <td>5.125</td>\n",
       "      <td>5.125</td>\n",
       "    </tr>\n",
       "    <tr>\n",
       "      <th>1</th>\n",
       "      <td>0.0</td>\n",
       "      <td>107.625</td>\n",
       "      <td>4.125</td>\n",
       "      <td>4.25</td>\n",
       "      <td>7.875</td>\n",
       "      <td>6.125</td>\n",
       "      <td>6.375</td>\n",
       "      <td>6.0</td>\n",
       "      <td>5.125</td>\n",
       "      <td>5.125</td>\n",
       "    </tr>\n",
       "    <tr>\n",
       "      <th>2</th>\n",
       "      <td>0.0</td>\n",
       "      <td>0.000</td>\n",
       "      <td>104.125</td>\n",
       "      <td>4.25</td>\n",
       "      <td>7.875</td>\n",
       "      <td>6.125</td>\n",
       "      <td>6.375</td>\n",
       "      <td>6.0</td>\n",
       "      <td>5.125</td>\n",
       "      <td>5.125</td>\n",
       "    </tr>\n",
       "    <tr>\n",
       "      <th>3</th>\n",
       "      <td>0.0</td>\n",
       "      <td>0.000</td>\n",
       "      <td>0.000</td>\n",
       "      <td>104.25</td>\n",
       "      <td>7.875</td>\n",
       "      <td>6.125</td>\n",
       "      <td>6.375</td>\n",
       "      <td>6.0</td>\n",
       "      <td>5.125</td>\n",
       "      <td>5.125</td>\n",
       "    </tr>\n",
       "    <tr>\n",
       "      <th>4</th>\n",
       "      <td>0.0</td>\n",
       "      <td>0.000</td>\n",
       "      <td>0.000</td>\n",
       "      <td>0.00</td>\n",
       "      <td>107.875</td>\n",
       "      <td>6.125</td>\n",
       "      <td>6.375</td>\n",
       "      <td>6.0</td>\n",
       "      <td>5.125</td>\n",
       "      <td>5.125</td>\n",
       "    </tr>\n",
       "    <tr>\n",
       "      <th>5</th>\n",
       "      <td>0.0</td>\n",
       "      <td>0.000</td>\n",
       "      <td>0.000</td>\n",
       "      <td>0.00</td>\n",
       "      <td>0.000</td>\n",
       "      <td>106.125</td>\n",
       "      <td>6.375</td>\n",
       "      <td>6.0</td>\n",
       "      <td>5.125</td>\n",
       "      <td>5.125</td>\n",
       "    </tr>\n",
       "    <tr>\n",
       "      <th>6</th>\n",
       "      <td>0.0</td>\n",
       "      <td>0.000</td>\n",
       "      <td>0.000</td>\n",
       "      <td>0.00</td>\n",
       "      <td>0.000</td>\n",
       "      <td>0.000</td>\n",
       "      <td>106.375</td>\n",
       "      <td>6.0</td>\n",
       "      <td>5.125</td>\n",
       "      <td>5.125</td>\n",
       "    </tr>\n",
       "    <tr>\n",
       "      <th>7</th>\n",
       "      <td>0.0</td>\n",
       "      <td>0.000</td>\n",
       "      <td>0.000</td>\n",
       "      <td>0.00</td>\n",
       "      <td>0.000</td>\n",
       "      <td>0.000</td>\n",
       "      <td>0.000</td>\n",
       "      <td>106.0</td>\n",
       "      <td>5.125</td>\n",
       "      <td>5.125</td>\n",
       "    </tr>\n",
       "    <tr>\n",
       "      <th>8</th>\n",
       "      <td>0.0</td>\n",
       "      <td>0.000</td>\n",
       "      <td>0.000</td>\n",
       "      <td>0.00</td>\n",
       "      <td>0.000</td>\n",
       "      <td>0.000</td>\n",
       "      <td>0.000</td>\n",
       "      <td>0.0</td>\n",
       "      <td>105.125</td>\n",
       "      <td>5.125</td>\n",
       "    </tr>\n",
       "    <tr>\n",
       "      <th>9</th>\n",
       "      <td>0.0</td>\n",
       "      <td>0.000</td>\n",
       "      <td>0.000</td>\n",
       "      <td>0.00</td>\n",
       "      <td>0.000</td>\n",
       "      <td>0.000</td>\n",
       "      <td>0.000</td>\n",
       "      <td>0.0</td>\n",
       "      <td>0.000</td>\n",
       "      <td>105.125</td>\n",
       "    </tr>\n",
       "  </tbody>\n",
       "</table>\n",
       "</div>"
      ],
      "text/plain": [
       "       0        1        2       3        4        5        6      7        8  \\\n",
       "0  100.0    7.625    4.125    4.25    7.875    6.125    6.375    6.0    5.125   \n",
       "1    0.0  107.625    4.125    4.25    7.875    6.125    6.375    6.0    5.125   \n",
       "2    0.0    0.000  104.125    4.25    7.875    6.125    6.375    6.0    5.125   \n",
       "3    0.0    0.000    0.000  104.25    7.875    6.125    6.375    6.0    5.125   \n",
       "4    0.0    0.000    0.000    0.00  107.875    6.125    6.375    6.0    5.125   \n",
       "5    0.0    0.000    0.000    0.00    0.000  106.125    6.375    6.0    5.125   \n",
       "6    0.0    0.000    0.000    0.00    0.000    0.000  106.375    6.0    5.125   \n",
       "7    0.0    0.000    0.000    0.00    0.000    0.000    0.000  106.0    5.125   \n",
       "8    0.0    0.000    0.000    0.00    0.000    0.000    0.000    0.0  105.125   \n",
       "9    0.0    0.000    0.000    0.00    0.000    0.000    0.000    0.0    0.000   \n",
       "\n",
       "         9  \n",
       "0    5.125  \n",
       "1    5.125  \n",
       "2    5.125  \n",
       "3    5.125  \n",
       "4    5.125  \n",
       "5    5.125  \n",
       "6    5.125  \n",
       "7    5.125  \n",
       "8    5.125  \n",
       "9  105.125  "
      ]
     },
     "execution_count": 165,
     "metadata": {},
     "output_type": "execute_result"
    }
   ],
   "source": [
    "pd.DataFrame(cf_matrix)"
   ]
  },
  {
   "cell_type": "code",
   "execution_count": 209,
   "metadata": {},
   "outputs": [
    {
     "data": {
      "text/plain": [
       "(10, 10)"
      ]
     },
     "execution_count": 209,
     "metadata": {},
     "output_type": "execute_result"
    }
   ],
   "source": [
    "np.linalg.inv(cf_matrix).shape"
   ]
  },
  {
   "cell_type": "code",
   "execution_count": 201,
   "metadata": {},
   "outputs": [
    {
     "data": {
      "text/plain": [
       "0.07340553549939831"
      ]
     },
     "execution_count": 201,
     "metadata": {},
     "output_type": "execute_result"
    }
   ],
   "source": [
    "df['coupon'].iloc[1]/df['ask_price'].iloc[1]"
   ]
  },
  {
   "cell_type": "code",
   "execution_count": 166,
   "metadata": {},
   "outputs": [
    {
     "data": {
      "text/html": [
       "<div>\n",
       "<style scoped>\n",
       "    .dataframe tbody tr th:only-of-type {\n",
       "        vertical-align: middle;\n",
       "    }\n",
       "\n",
       "    .dataframe tbody tr th {\n",
       "        vertical-align: top;\n",
       "    }\n",
       "\n",
       "    .dataframe thead th {\n",
       "        text-align: right;\n",
       "    }\n",
       "</style>\n",
       "<table border=\"1\" class=\"dataframe\">\n",
       "  <thead>\n",
       "    <tr style=\"text-align: right;\">\n",
       "      <th></th>\n",
       "      <th>maturity</th>\n",
       "      <th>coupon</th>\n",
       "      <th>bid_price</th>\n",
       "      <th>ask_price</th>\n",
       "      <th>monthly_term</th>\n",
       "      <th>num_payments</th>\n",
       "    </tr>\n",
       "  </thead>\n",
       "  <tbody>\n",
       "    <tr>\n",
       "      <th>1</th>\n",
       "      <td>1994-06-30</td>\n",
       "      <td>0</td>\n",
       "      <td>98.3911</td>\n",
       "      <td>98.4012</td>\n",
       "      <td>6</td>\n",
       "      <td>1.0</td>\n",
       "    </tr>\n",
       "    <tr>\n",
       "      <th>2</th>\n",
       "      <td>1994-12-31</td>\n",
       "      <td>7.625</td>\n",
       "      <td>103.812</td>\n",
       "      <td>103.875</td>\n",
       "      <td>12</td>\n",
       "      <td>2.0</td>\n",
       "    </tr>\n",
       "    <tr>\n",
       "      <th>3</th>\n",
       "      <td>1995-06-30</td>\n",
       "      <td>4.125</td>\n",
       "      <td>100.188</td>\n",
       "      <td>100.25</td>\n",
       "      <td>18</td>\n",
       "      <td>3.0</td>\n",
       "    </tr>\n",
       "    <tr>\n",
       "      <th>4</th>\n",
       "      <td>1995-12-31</td>\n",
       "      <td>4.25</td>\n",
       "      <td>100</td>\n",
       "      <td>100.062</td>\n",
       "      <td>24</td>\n",
       "      <td>4.0</td>\n",
       "    </tr>\n",
       "    <tr>\n",
       "      <th>5</th>\n",
       "      <td>1996-06-30</td>\n",
       "      <td>7.875</td>\n",
       "      <td>108.688</td>\n",
       "      <td>108.75</td>\n",
       "      <td>30</td>\n",
       "      <td>5.0</td>\n",
       "    </tr>\n",
       "    <tr>\n",
       "      <th>6</th>\n",
       "      <td>1996-12-31</td>\n",
       "      <td>6.125</td>\n",
       "      <td>104.531</td>\n",
       "      <td>104.594</td>\n",
       "      <td>36</td>\n",
       "      <td>6.0</td>\n",
       "    </tr>\n",
       "    <tr>\n",
       "      <th>7</th>\n",
       "      <td>1997-06-30</td>\n",
       "      <td>6.375</td>\n",
       "      <td>105.156</td>\n",
       "      <td>105.219</td>\n",
       "      <td>42</td>\n",
       "      <td>7.0</td>\n",
       "    </tr>\n",
       "    <tr>\n",
       "      <th>8</th>\n",
       "      <td>1997-12-31</td>\n",
       "      <td>6</td>\n",
       "      <td>103.781</td>\n",
       "      <td>103.844</td>\n",
       "      <td>48</td>\n",
       "      <td>8.0</td>\n",
       "    </tr>\n",
       "    <tr>\n",
       "      <th>9</th>\n",
       "      <td>1998-06-30</td>\n",
       "      <td>5.125</td>\n",
       "      <td>100.062</td>\n",
       "      <td>100.125</td>\n",
       "      <td>54</td>\n",
       "      <td>9.0</td>\n",
       "    </tr>\n",
       "    <tr>\n",
       "      <th>10</th>\n",
       "      <td>1998-12-31</td>\n",
       "      <td>5.125</td>\n",
       "      <td>99.625</td>\n",
       "      <td>99.6875</td>\n",
       "      <td>60</td>\n",
       "      <td>10.0</td>\n",
       "    </tr>\n",
       "  </tbody>\n",
       "</table>\n",
       "</div>"
      ],
      "text/plain": [
       "0    maturity coupon bid_price ask_price  monthly_term  num_payments\n",
       "1  1994-06-30      0   98.3911   98.4012             6           1.0\n",
       "2  1994-12-31  7.625   103.812   103.875            12           2.0\n",
       "3  1995-06-30  4.125   100.188    100.25            18           3.0\n",
       "4  1995-12-31   4.25       100   100.062            24           4.0\n",
       "5  1996-06-30  7.875   108.688    108.75            30           5.0\n",
       "6  1996-12-31  6.125   104.531   104.594            36           6.0\n",
       "7  1997-06-30  6.375   105.156   105.219            42           7.0\n",
       "8  1997-12-31      6   103.781   103.844            48           8.0\n",
       "9  1998-06-30  5.125   100.062   100.125            54           9.0\n",
       "10 1998-12-31  5.125    99.625   99.6875            60          10.0"
      ]
     },
     "execution_count": 166,
     "metadata": {},
     "output_type": "execute_result"
    }
   ],
   "source": [
    "df"
   ]
  },
  {
   "cell_type": "code",
   "execution_count": 186,
   "metadata": {},
   "outputs": [],
   "source": [
    "terms = np.array(df['num_payments']/2)\n",
    "bid_rates = np.array(df['coupon']/df['bid_price'])\n",
    "ask_rates = np.array(df['coupon']/df['ask_price'])"
   ]
  },
  {
   "cell_type": "code",
   "execution_count": 189,
   "metadata": {},
   "outputs": [
    {
     "data": {
      "text/plain": [
       "array([0.0, 0.07344972907886815, 0.041172800998128506, 0.0425,\n",
       "       0.07245543415756182, 0.05859488976029189, 0.06062404249674057,\n",
       "       0.057813883618725144, 0.05121798875702686, 0.05144291091593475],\n",
       "      dtype=object)"
      ]
     },
     "execution_count": 189,
     "metadata": {},
     "output_type": "execute_result"
    }
   ],
   "source": [
    "bid_rates"
   ]
  },
  {
   "cell_type": "code",
   "execution_count": 190,
   "metadata": {},
   "outputs": [
    {
     "name": "stdout",
     "output_type": "stream",
     "text": [
      "Warning: Maximum number of function evaluations has been exceeded.\n"
     ]
    }
   ],
   "source": [
    "fp = lambda c, x: c[0]+(c[1]+c[2])*(c[3]/x)*(1-np.exp(-x/c[3])-c[2]*np.exp(-x/c[3]))\n",
    "e = lambda p, x, y: ((fp(p,x)-y)**2).sum()\n",
    "\n",
    "discount_factor = np.exp(-r*T)\n",
    "r = theta0 + (theta1 + theta2) * ((1-np.exp(-T/lamb))/(T/lamb)) - theta2 * np.exp(-T/lamb)\n",
    "\n",
    "pmodel = 100 * ()\n",
    "\n",
    "p0 = np.array([0.01,0.01,0.01,1.00])  # initial parameter value\n",
    "p = fmin(e, p0, args=(terms, bid_rates))\n",
    "c = p\n",
    "j=[]\n",
    "for h in range(1,31,1):\n",
    "    j.append(c[0]+(c[1]+c[2])*(c[3]/h)*(1-np.exp(-h/c[3])-c[2]*np.exp(-h/c[3])))"
   ]
  },
  {
   "cell_type": "code",
   "execution_count": 194,
   "metadata": {},
   "outputs": [
    {
     "name": "stdout",
     "output_type": "stream",
     "text": [
      "Estimated Parameters:  [ 0.06683759  0.74099376 -0.74172624 49.34638612]\n",
      "Initial Parameters:  [0.01 0.01 0.01 1.  ]\n",
      "    Period        NS\n",
      "0        1  0.039841\n",
      "1        2  0.053247\n",
      "2        3  0.057717\n",
      "3        4  0.059953\n",
      "4        5  0.061296\n",
      "5        6  0.062191\n",
      "6        7  0.062831\n",
      "7        8  0.063312\n",
      "8        9  0.063686\n",
      "9       10  0.063985\n",
      "10      11  0.064231\n",
      "11      12  0.064436\n",
      "12      13  0.064609\n",
      "13      14  0.064758\n",
      "14      15  0.064887\n",
      "15      16  0.065000\n",
      "16      17  0.065101\n",
      "17      18  0.065190\n",
      "18      19  0.065270\n",
      "19      20  0.065342\n",
      "20      21  0.065407\n",
      "21      22  0.065466\n",
      "22      23  0.065521\n",
      "23      24  0.065571\n",
      "24      25  0.065617\n",
      "25      26  0.065659\n",
      "26      27  0.065699\n",
      "27      28  0.065736\n",
      "28      29  0.065770\n",
      "29      30  0.065802\n"
     ]
    },
    {
     "name": "stderr",
     "output_type": "stream",
     "text": [
      "C:\\Users\\austi\\Anaconda\\lib\\site-packages\\ipykernel_launcher.py:4: FutureWarning:\n",
      "\n",
      "from_items is deprecated. Please use DataFrame.from_dict(dict(items), ...) instead. DataFrame.from_dict(OrderedDict(items)) may be used to preserve the key order.\n",
      "\n"
     ]
    }
   ],
   "source": [
    "print('Estimated Parameters: ', p)\n",
    "print('Initial Parameters: ', p0)\n",
    "h = range(1,31,1)\n",
    "rateTable = pd.DataFrame.from_items([('Period', h),('NS', j)])\n",
    "print(rateTable.to_string())"
   ]
  }
 ],
 "metadata": {
  "kernelspec": {
   "display_name": "Python 3",
   "language": "python",
   "name": "python3"
  },
  "language_info": {
   "codemirror_mode": {
    "name": "ipython",
    "version": 3
   },
   "file_extension": ".py",
   "mimetype": "text/x-python",
   "name": "python",
   "nbconvert_exporter": "python",
   "pygments_lexer": "ipython3",
   "version": "3.6.6"
  },
  "toc": {
   "base_numbering": 1,
   "nav_menu": {},
   "number_sections": true,
   "sideBar": true,
   "skip_h1_title": false,
   "title_cell": "Table of Contents",
   "title_sidebar": "Contents",
   "toc_cell": false,
   "toc_position": {},
   "toc_section_display": true,
   "toc_window_display": false
  }
 },
 "nbformat": 4,
 "nbformat_minor": 2
}
