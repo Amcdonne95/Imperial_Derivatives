{
 "cells": [
  {
   "cell_type": "code",
   "execution_count": 50,
   "metadata": {},
   "outputs": [
    {
     "data": {
      "text/html": [
       "<style>.container { width:95% !important; }</style>"
      ],
      "text/plain": [
       "<IPython.core.display.HTML object>"
      ]
     },
     "metadata": {},
     "output_type": "display_data"
    }
   ],
   "source": [
    "from IPython.core.display import display, HTML\n",
    "display(HTML(\"<style>.container { width:95% !important; }</style>\"))\n",
    "import pandas as pd\n",
    "import numpy as np\n",
    "from datetime import datetime"
   ]
  },
  {
   "cell_type": "code",
   "execution_count": 52,
   "metadata": {},
   "outputs": [],
   "source": [
    "curr_date = '1993-12-31'\n",
    "curr_date = datetime.strptime(curr_date, '%Y-%m-%d')"
   ]
  },
  {
   "cell_type": "code",
   "execution_count": 46,
   "metadata": {},
   "outputs": [],
   "source": [
    "data = pd.read_csv('Rates_Table.txt', sep=\" \", header=None)\n",
    "df = data.T\n",
    "df.columns = df.iloc[0]\n",
    "df = df.reindex(df.index.drop(0))"
   ]
  },
  {
   "cell_type": "code",
   "execution_count": 47,
   "metadata": {},
   "outputs": [],
   "source": [
    "df['maturity'] = pd.to_datetime(df['maturity'], format='%Y%m%d')"
   ]
  },
  {
   "cell_type": "code",
   "execution_count": 59,
   "metadata": {},
   "outputs": [],
   "source": [
    "df['term'] = df['maturity'] - curr_date\n",
    "#Converting days into years or not; what is the day count here, ACT/360, 30/360 ect."
   ]
  },
  {
   "cell_type": "code",
   "execution_count": 62,
   "metadata": {},
   "outputs": [],
   "source": [
    "df['mid_price'] = (df['bid_price'] + df['ask_price'])/2"
   ]
  },
  {
   "cell_type": "code",
   "execution_count": 63,
   "metadata": {},
   "outputs": [
    {
     "data": {
      "text/html": [
       "<div>\n",
       "<style scoped>\n",
       "    .dataframe tbody tr th:only-of-type {\n",
       "        vertical-align: middle;\n",
       "    }\n",
       "\n",
       "    .dataframe tbody tr th {\n",
       "        vertical-align: top;\n",
       "    }\n",
       "\n",
       "    .dataframe thead th {\n",
       "        text-align: right;\n",
       "    }\n",
       "</style>\n",
       "<table border=\"1\" class=\"dataframe\">\n",
       "  <thead>\n",
       "    <tr style=\"text-align: right;\">\n",
       "      <th></th>\n",
       "      <th>maturity</th>\n",
       "      <th>coupon</th>\n",
       "      <th>bid_price</th>\n",
       "      <th>ask_price</th>\n",
       "      <th>term</th>\n",
       "      <th>mid_price</th>\n",
       "    </tr>\n",
       "  </thead>\n",
       "  <tbody>\n",
       "    <tr>\n",
       "      <th>1</th>\n",
       "      <td>1994-06-30</td>\n",
       "      <td>0</td>\n",
       "      <td>98.3911</td>\n",
       "      <td>98.4012</td>\n",
       "      <td>181 days</td>\n",
       "      <td>98.3962</td>\n",
       "    </tr>\n",
       "    <tr>\n",
       "      <th>2</th>\n",
       "      <td>1994-12-31</td>\n",
       "      <td>7.625</td>\n",
       "      <td>103.812</td>\n",
       "      <td>103.875</td>\n",
       "      <td>365 days</td>\n",
       "      <td>103.844</td>\n",
       "    </tr>\n",
       "    <tr>\n",
       "      <th>3</th>\n",
       "      <td>1995-06-30</td>\n",
       "      <td>4.125</td>\n",
       "      <td>100.188</td>\n",
       "      <td>100.25</td>\n",
       "      <td>546 days</td>\n",
       "      <td>100.219</td>\n",
       "    </tr>\n",
       "    <tr>\n",
       "      <th>4</th>\n",
       "      <td>1995-12-31</td>\n",
       "      <td>4.25</td>\n",
       "      <td>100</td>\n",
       "      <td>100.062</td>\n",
       "      <td>730 days</td>\n",
       "      <td>100.031</td>\n",
       "    </tr>\n",
       "    <tr>\n",
       "      <th>5</th>\n",
       "      <td>1996-06-30</td>\n",
       "      <td>7.875</td>\n",
       "      <td>108.688</td>\n",
       "      <td>108.75</td>\n",
       "      <td>912 days</td>\n",
       "      <td>108.719</td>\n",
       "    </tr>\n",
       "    <tr>\n",
       "      <th>6</th>\n",
       "      <td>1996-12-31</td>\n",
       "      <td>6.125</td>\n",
       "      <td>104.531</td>\n",
       "      <td>104.594</td>\n",
       "      <td>1096 days</td>\n",
       "      <td>104.563</td>\n",
       "    </tr>\n",
       "    <tr>\n",
       "      <th>7</th>\n",
       "      <td>1997-06-30</td>\n",
       "      <td>6.375</td>\n",
       "      <td>105.156</td>\n",
       "      <td>105.219</td>\n",
       "      <td>1277 days</td>\n",
       "      <td>105.188</td>\n",
       "    </tr>\n",
       "    <tr>\n",
       "      <th>8</th>\n",
       "      <td>1997-12-31</td>\n",
       "      <td>6</td>\n",
       "      <td>103.781</td>\n",
       "      <td>103.844</td>\n",
       "      <td>1461 days</td>\n",
       "      <td>103.813</td>\n",
       "    </tr>\n",
       "    <tr>\n",
       "      <th>9</th>\n",
       "      <td>1998-06-30</td>\n",
       "      <td>5.125</td>\n",
       "      <td>100.062</td>\n",
       "      <td>100.125</td>\n",
       "      <td>1642 days</td>\n",
       "      <td>100.094</td>\n",
       "    </tr>\n",
       "    <tr>\n",
       "      <th>10</th>\n",
       "      <td>1998-12-31</td>\n",
       "      <td>5.125</td>\n",
       "      <td>99.625</td>\n",
       "      <td>99.6875</td>\n",
       "      <td>1826 days</td>\n",
       "      <td>99.6562</td>\n",
       "    </tr>\n",
       "  </tbody>\n",
       "</table>\n",
       "</div>"
      ],
      "text/plain": [
       "0    maturity coupon bid_price ask_price      term mid_price\n",
       "1  1994-06-30      0   98.3911   98.4012  181 days   98.3962\n",
       "2  1994-12-31  7.625   103.812   103.875  365 days   103.844\n",
       "3  1995-06-30  4.125   100.188    100.25  546 days   100.219\n",
       "4  1995-12-31   4.25       100   100.062  730 days   100.031\n",
       "5  1996-06-30  7.875   108.688    108.75  912 days   108.719\n",
       "6  1996-12-31  6.125   104.531   104.594 1096 days   104.563\n",
       "7  1997-06-30  6.375   105.156   105.219 1277 days   105.188\n",
       "8  1997-12-31      6   103.781   103.844 1461 days   103.813\n",
       "9  1998-06-30  5.125   100.062   100.125 1642 days   100.094\n",
       "10 1998-12-31  5.125    99.625   99.6875 1826 days   99.6562"
      ]
     },
     "execution_count": 63,
     "metadata": {},
     "output_type": "execute_result"
    }
   ],
   "source": [
    "df"
   ]
  },
  {
   "cell_type": "code",
   "execution_count": 66,
   "metadata": {},
   "outputs": [
    {
     "data": {
      "text/plain": [
       "98.3911"
      ]
     },
     "execution_count": 66,
     "metadata": {},
     "output_type": "execute_result"
    }
   ],
   "source": [
    "df['bid_price'].iloc[0]"
   ]
  },
  {
   "cell_type": "code",
   "execution_count": null,
   "metadata": {},
   "outputs": [],
   "source": [
    "#finding the discount factors for each bid-ask price to create the curves\n",
    "df_bid = []\n",
    "df_ask = []\n",
    "#df_bid[0] = ((100/df['bid_price'].iloc[0])**(1/n)) - 1\n",
    "#df_ask[0] = ((100/df['ask_price'].iloc[0])**(1/n)) - 1\n",
    "df_bid[0] = df['bid_price'].iloc[0]*(1/(1+.5)) \n",
    "df_ask[0] ="
   ]
  },
  {
   "cell_type": "code",
   "execution_count": 69,
   "metadata": {},
   "outputs": [
    {
     "data": {
      "text/plain": [
       "Int64Index([1, 2, 3, 4, 5, 6, 7, 8, 9], dtype='int64')"
      ]
     },
     "execution_count": 69,
     "metadata": {},
     "output_type": "execute_result"
    }
   ],
   "source": [
    "def discount_factor(price, coupon, term)"
   ]
  },
  {
   "cell_type": "code",
   "execution_count": null,
   "metadata": {},
   "outputs": [],
   "source": [
    "for i in df.index[:-1]:\n",
    "    \n",
    "    "
   ]
  }
 ],
 "metadata": {
  "kernelspec": {
   "display_name": "Python 3",
   "language": "python",
   "name": "python3"
  },
  "language_info": {
   "codemirror_mode": {
    "name": "ipython",
    "version": 3
   },
   "file_extension": ".py",
   "mimetype": "text/x-python",
   "name": "python",
   "nbconvert_exporter": "python",
   "pygments_lexer": "ipython3",
   "version": "3.6.6"
  },
  "toc": {
   "base_numbering": 1,
   "nav_menu": {},
   "number_sections": true,
   "sideBar": true,
   "skip_h1_title": false,
   "title_cell": "Table of Contents",
   "title_sidebar": "Contents",
   "toc_cell": false,
   "toc_position": {},
   "toc_section_display": true,
   "toc_window_display": false
  }
 },
 "nbformat": 4,
 "nbformat_minor": 2
}
