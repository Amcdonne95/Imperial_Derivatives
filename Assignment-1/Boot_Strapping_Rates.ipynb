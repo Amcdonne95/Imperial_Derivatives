{
 "cells": [
  {
   "cell_type": "code",
   "execution_count": 156,
   "metadata": {},
   "outputs": [
    {
     "data": {
      "text/html": [
       "<style>.container { width:95% !important; }</style>"
      ],
      "text/plain": [
       "<IPython.core.display.HTML object>"
      ]
     },
     "metadata": {},
     "output_type": "display_data"
    }
   ],
   "source": [
    "from IPython.core.display import display, HTML\n",
    "display(HTML(\"<style>.container { width:95% !important; }</style>\"))\n",
    "import pandas as pd\n",
    "import numpy as np\n",
    "from dateutil.relativedelta import relativedelta\n",
    "from datetime import datetime\n",
    "import plotly.plotly as py\n",
    "import plotly.graph_objs as go"
   ]
  },
  {
   "cell_type": "code",
   "execution_count": 72,
   "metadata": {},
   "outputs": [],
   "source": [
    "curr_date = '1993-12-31'\n",
    "curr_date = datetime.strptime(curr_date, '%Y-%m-%d')"
   ]
  },
  {
   "cell_type": "code",
   "execution_count": 73,
   "metadata": {},
   "outputs": [],
   "source": [
    "data = pd.read_csv('Rates_Table.txt', sep=\" \", header=None)\n",
    "df = data.T\n",
    "df.columns = df.iloc[0]\n",
    "df = df.reindex(df.index.drop(0))"
   ]
  },
  {
   "cell_type": "code",
   "execution_count": 74,
   "metadata": {},
   "outputs": [],
   "source": [
    "def calc_months(start_date, end_date):\n",
    "    months = relativedelta(end_date, start_date).years*12 + relativedelta(end_date, start_date).months\n",
    "    return months"
   ]
  },
  {
   "cell_type": "code",
   "execution_count": 75,
   "metadata": {},
   "outputs": [],
   "source": [
    "df['maturity'] = pd.to_datetime(df['maturity'], format='%Y%m%d')"
   ]
  },
  {
   "cell_type": "code",
   "execution_count": 78,
   "metadata": {},
   "outputs": [],
   "source": [
    "termlst = []\n",
    "for i in range(0, len(df.index)):\n",
    "    termlst.append(calc_months(curr_date, df['maturity'].iloc[i]))\n",
    "\n",
    "df['monthly_term'] = termlst\n",
    "df['num_payments'] = df['monthly_term'] / 6"
   ]
  },
  {
   "cell_type": "code",
   "execution_count": 138,
   "metadata": {},
   "outputs": [],
   "source": [
    "cf_matrix = np.zeros((10, 10))\n",
    "for i in list(range(0, 10)):\n",
    "    #print('i: ', i)\n",
    "    for j in list(range(0, 10)):\n",
    "        #print(j)\n",
    "        if i >= df['num_payments'].iloc[j]:\n",
    "            continue\n",
    "        cf_matrix[i][j] = df['coupon'].iloc[j]\n",
    "        #print(df['num_payments'].iloc[j])\n",
    "        if i == j:\n",
    "            cf_matrix[i][j] += 100\n",
    "#print(cf_matrix)"
   ]
  },
  {
   "cell_type": "code",
   "execution_count": 139,
   "metadata": {
    "scrolled": true
   },
   "outputs": [
    {
     "data": {
      "text/html": [
       "<div>\n",
       "<style scoped>\n",
       "    .dataframe tbody tr th:only-of-type {\n",
       "        vertical-align: middle;\n",
       "    }\n",
       "\n",
       "    .dataframe tbody tr th {\n",
       "        vertical-align: top;\n",
       "    }\n",
       "\n",
       "    .dataframe thead th {\n",
       "        text-align: right;\n",
       "    }\n",
       "</style>\n",
       "<table border=\"1\" class=\"dataframe\">\n",
       "  <thead>\n",
       "    <tr style=\"text-align: right;\">\n",
       "      <th></th>\n",
       "      <th>0</th>\n",
       "      <th>1</th>\n",
       "      <th>2</th>\n",
       "      <th>3</th>\n",
       "      <th>4</th>\n",
       "      <th>5</th>\n",
       "      <th>6</th>\n",
       "      <th>7</th>\n",
       "      <th>8</th>\n",
       "      <th>9</th>\n",
       "    </tr>\n",
       "  </thead>\n",
       "  <tbody>\n",
       "    <tr>\n",
       "      <th>0</th>\n",
       "      <td>100.0</td>\n",
       "      <td>7.625</td>\n",
       "      <td>4.125</td>\n",
       "      <td>4.25</td>\n",
       "      <td>7.875</td>\n",
       "      <td>6.125</td>\n",
       "      <td>6.375</td>\n",
       "      <td>6.0</td>\n",
       "      <td>5.125</td>\n",
       "      <td>5.125</td>\n",
       "    </tr>\n",
       "    <tr>\n",
       "      <th>1</th>\n",
       "      <td>0.0</td>\n",
       "      <td>107.625</td>\n",
       "      <td>4.125</td>\n",
       "      <td>4.25</td>\n",
       "      <td>7.875</td>\n",
       "      <td>6.125</td>\n",
       "      <td>6.375</td>\n",
       "      <td>6.0</td>\n",
       "      <td>5.125</td>\n",
       "      <td>5.125</td>\n",
       "    </tr>\n",
       "    <tr>\n",
       "      <th>2</th>\n",
       "      <td>0.0</td>\n",
       "      <td>0.000</td>\n",
       "      <td>104.125</td>\n",
       "      <td>4.25</td>\n",
       "      <td>7.875</td>\n",
       "      <td>6.125</td>\n",
       "      <td>6.375</td>\n",
       "      <td>6.0</td>\n",
       "      <td>5.125</td>\n",
       "      <td>5.125</td>\n",
       "    </tr>\n",
       "    <tr>\n",
       "      <th>3</th>\n",
       "      <td>0.0</td>\n",
       "      <td>0.000</td>\n",
       "      <td>0.000</td>\n",
       "      <td>104.25</td>\n",
       "      <td>7.875</td>\n",
       "      <td>6.125</td>\n",
       "      <td>6.375</td>\n",
       "      <td>6.0</td>\n",
       "      <td>5.125</td>\n",
       "      <td>5.125</td>\n",
       "    </tr>\n",
       "    <tr>\n",
       "      <th>4</th>\n",
       "      <td>0.0</td>\n",
       "      <td>0.000</td>\n",
       "      <td>0.000</td>\n",
       "      <td>0.00</td>\n",
       "      <td>107.875</td>\n",
       "      <td>6.125</td>\n",
       "      <td>6.375</td>\n",
       "      <td>6.0</td>\n",
       "      <td>5.125</td>\n",
       "      <td>5.125</td>\n",
       "    </tr>\n",
       "    <tr>\n",
       "      <th>5</th>\n",
       "      <td>0.0</td>\n",
       "      <td>0.000</td>\n",
       "      <td>0.000</td>\n",
       "      <td>0.00</td>\n",
       "      <td>0.000</td>\n",
       "      <td>106.125</td>\n",
       "      <td>6.375</td>\n",
       "      <td>6.0</td>\n",
       "      <td>5.125</td>\n",
       "      <td>5.125</td>\n",
       "    </tr>\n",
       "    <tr>\n",
       "      <th>6</th>\n",
       "      <td>0.0</td>\n",
       "      <td>0.000</td>\n",
       "      <td>0.000</td>\n",
       "      <td>0.00</td>\n",
       "      <td>0.000</td>\n",
       "      <td>0.000</td>\n",
       "      <td>106.375</td>\n",
       "      <td>6.0</td>\n",
       "      <td>5.125</td>\n",
       "      <td>5.125</td>\n",
       "    </tr>\n",
       "    <tr>\n",
       "      <th>7</th>\n",
       "      <td>0.0</td>\n",
       "      <td>0.000</td>\n",
       "      <td>0.000</td>\n",
       "      <td>0.00</td>\n",
       "      <td>0.000</td>\n",
       "      <td>0.000</td>\n",
       "      <td>0.000</td>\n",
       "      <td>106.0</td>\n",
       "      <td>5.125</td>\n",
       "      <td>5.125</td>\n",
       "    </tr>\n",
       "    <tr>\n",
       "      <th>8</th>\n",
       "      <td>0.0</td>\n",
       "      <td>0.000</td>\n",
       "      <td>0.000</td>\n",
       "      <td>0.00</td>\n",
       "      <td>0.000</td>\n",
       "      <td>0.000</td>\n",
       "      <td>0.000</td>\n",
       "      <td>0.0</td>\n",
       "      <td>105.125</td>\n",
       "      <td>5.125</td>\n",
       "    </tr>\n",
       "    <tr>\n",
       "      <th>9</th>\n",
       "      <td>0.0</td>\n",
       "      <td>0.000</td>\n",
       "      <td>0.000</td>\n",
       "      <td>0.00</td>\n",
       "      <td>0.000</td>\n",
       "      <td>0.000</td>\n",
       "      <td>0.000</td>\n",
       "      <td>0.0</td>\n",
       "      <td>0.000</td>\n",
       "      <td>105.125</td>\n",
       "    </tr>\n",
       "  </tbody>\n",
       "</table>\n",
       "</div>"
      ],
      "text/plain": [
       "       0        1        2       3        4        5        6      7        8  \\\n",
       "0  100.0    7.625    4.125    4.25    7.875    6.125    6.375    6.0    5.125   \n",
       "1    0.0  107.625    4.125    4.25    7.875    6.125    6.375    6.0    5.125   \n",
       "2    0.0    0.000  104.125    4.25    7.875    6.125    6.375    6.0    5.125   \n",
       "3    0.0    0.000    0.000  104.25    7.875    6.125    6.375    6.0    5.125   \n",
       "4    0.0    0.000    0.000    0.00  107.875    6.125    6.375    6.0    5.125   \n",
       "5    0.0    0.000    0.000    0.00    0.000  106.125    6.375    6.0    5.125   \n",
       "6    0.0    0.000    0.000    0.00    0.000    0.000  106.375    6.0    5.125   \n",
       "7    0.0    0.000    0.000    0.00    0.000    0.000    0.000  106.0    5.125   \n",
       "8    0.0    0.000    0.000    0.00    0.000    0.000    0.000    0.0  105.125   \n",
       "9    0.0    0.000    0.000    0.00    0.000    0.000    0.000    0.0    0.000   \n",
       "\n",
       "         9  \n",
       "0    5.125  \n",
       "1    5.125  \n",
       "2    5.125  \n",
       "3    5.125  \n",
       "4    5.125  \n",
       "5    5.125  \n",
       "6    5.125  \n",
       "7    5.125  \n",
       "8    5.125  \n",
       "9  105.125  "
      ]
     },
     "execution_count": 139,
     "metadata": {},
     "output_type": "execute_result"
    }
   ],
   "source": [
    "pd.DataFrame(cf_matrix)"
   ]
  },
  {
   "cell_type": "code",
   "execution_count": 154,
   "metadata": {},
   "outputs": [],
   "source": [
    "bid_discount_factors = np.flip(np.dot(np.linalg.inv(cf_matrix), df.bid_price))\n",
    "ask_discount_factors = np.flip(np.dot(np.linalg.inv(cf_matrix), df.ask_price))"
   ]
  },
  {
   "cell_type": "code",
   "execution_count": 155,
   "metadata": {},
   "outputs": [
    {
     "data": {
      "text/plain": [
       "array([0.9482758620689654, 0.9062077165935463, 0.8899959590505153,\n",
       "       0.8495849203765128, 0.7946618802134395, 0.7751785679846483,\n",
       "       0.6602432306807179, 0.6358878565961276, 0.6245183336549386,\n",
       "       0.5697803336549386], dtype=object)"
      ]
     },
     "execution_count": 155,
     "metadata": {},
     "output_type": "execute_result"
    }
   ],
   "source": []
  },
  {
   "cell_type": "code",
   "execution_count": 148,
   "metadata": {},
   "outputs": [
    {
     "data": {
      "text/plain": [
       "[6, 12, 18, 24, 30, 36, 42, 48, 54, 60]"
      ]
     },
     "execution_count": 148,
     "metadata": {},
     "output_type": "execute_result"
    }
   ],
   "source": [
    "list(df.monthly_term)"
   ]
  },
  {
   "cell_type": "code",
   "execution_count": 160,
   "metadata": {},
   "outputs": [
    {
     "name": "stderr",
     "output_type": "stream",
     "text": [
      "C:\\Users\\austi\\Anaconda\\lib\\site-packages\\IPython\\core\\display.py:689: UserWarning:\n",
      "\n",
      "Consider using IPython.display.IFrame instead\n",
      "\n"
     ]
    },
    {
     "data": {
      "text/html": [
       "<iframe id=\"igraph\" scrolling=\"no\" style=\"border:none;\" seamless=\"seamless\" src=\"https://plot.ly/~amcdonne/73.embed\" height=\"525px\" width=\"100%\"></iframe>"
      ],
      "text/plain": [
       "<plotly.tools.PlotlyDisplay object>"
      ]
     },
     "execution_count": 160,
     "metadata": {},
     "output_type": "execute_result"
    }
   ],
   "source": [
    "trace0 = go.Scatter(\n",
    "    x = list(df.monthly_term),\n",
    "    y = bid_discount_factors,\n",
    "    mode = 'lines',\n",
    "    name = 'Bid-DF'\n",
    ")\n",
    "trace1 = go.Scatter(\n",
    "    x = list(df.monthly_term),\n",
    "    y = ask_discount_factors,\n",
    "    mode = 'lines',\n",
    "    name = 'Ask-DF'\n",
    ")\n",
    "data = [trace0, trace1]\n",
    "layout = dict(title = 'Discount Curves',\n",
    "              xaxis = dict(title = 'Month'),\n",
    "              yaxis = dict(title = 'Discount Rate'),\n",
    "              )\n",
    "fig = dict(data=data, layout=layout)\n",
    "py.iplot(fig, filename='bid-ask-DF_Curve')"
   ]
  },
  {
   "cell_type": "code",
   "execution_count": 79,
   "metadata": {},
   "outputs": [
    {
     "data": {
      "text/html": [
       "<div>\n",
       "<style scoped>\n",
       "    .dataframe tbody tr th:only-of-type {\n",
       "        vertical-align: middle;\n",
       "    }\n",
       "\n",
       "    .dataframe tbody tr th {\n",
       "        vertical-align: top;\n",
       "    }\n",
       "\n",
       "    .dataframe thead th {\n",
       "        text-align: right;\n",
       "    }\n",
       "</style>\n",
       "<table border=\"1\" class=\"dataframe\">\n",
       "  <thead>\n",
       "    <tr style=\"text-align: right;\">\n",
       "      <th></th>\n",
       "      <th>maturity</th>\n",
       "      <th>coupon</th>\n",
       "      <th>bid_price</th>\n",
       "      <th>ask_price</th>\n",
       "      <th>monthly_term</th>\n",
       "      <th>num_payments</th>\n",
       "    </tr>\n",
       "  </thead>\n",
       "  <tbody>\n",
       "    <tr>\n",
       "      <th>1</th>\n",
       "      <td>1994-06-30</td>\n",
       "      <td>0</td>\n",
       "      <td>98.3911</td>\n",
       "      <td>98.4012</td>\n",
       "      <td>6</td>\n",
       "      <td>1.0</td>\n",
       "    </tr>\n",
       "    <tr>\n",
       "      <th>2</th>\n",
       "      <td>1994-12-31</td>\n",
       "      <td>7.625</td>\n",
       "      <td>103.812</td>\n",
       "      <td>103.875</td>\n",
       "      <td>12</td>\n",
       "      <td>2.0</td>\n",
       "    </tr>\n",
       "    <tr>\n",
       "      <th>3</th>\n",
       "      <td>1995-06-30</td>\n",
       "      <td>4.125</td>\n",
       "      <td>100.188</td>\n",
       "      <td>100.25</td>\n",
       "      <td>18</td>\n",
       "      <td>3.0</td>\n",
       "    </tr>\n",
       "    <tr>\n",
       "      <th>4</th>\n",
       "      <td>1995-12-31</td>\n",
       "      <td>4.25</td>\n",
       "      <td>100</td>\n",
       "      <td>100.062</td>\n",
       "      <td>24</td>\n",
       "      <td>4.0</td>\n",
       "    </tr>\n",
       "    <tr>\n",
       "      <th>5</th>\n",
       "      <td>1996-06-30</td>\n",
       "      <td>7.875</td>\n",
       "      <td>108.688</td>\n",
       "      <td>108.75</td>\n",
       "      <td>30</td>\n",
       "      <td>5.0</td>\n",
       "    </tr>\n",
       "    <tr>\n",
       "      <th>6</th>\n",
       "      <td>1996-12-31</td>\n",
       "      <td>6.125</td>\n",
       "      <td>104.531</td>\n",
       "      <td>104.594</td>\n",
       "      <td>36</td>\n",
       "      <td>6.0</td>\n",
       "    </tr>\n",
       "    <tr>\n",
       "      <th>7</th>\n",
       "      <td>1997-06-30</td>\n",
       "      <td>6.375</td>\n",
       "      <td>105.156</td>\n",
       "      <td>105.219</td>\n",
       "      <td>42</td>\n",
       "      <td>7.0</td>\n",
       "    </tr>\n",
       "    <tr>\n",
       "      <th>8</th>\n",
       "      <td>1997-12-31</td>\n",
       "      <td>6</td>\n",
       "      <td>103.781</td>\n",
       "      <td>103.844</td>\n",
       "      <td>48</td>\n",
       "      <td>8.0</td>\n",
       "    </tr>\n",
       "    <tr>\n",
       "      <th>9</th>\n",
       "      <td>1998-06-30</td>\n",
       "      <td>5.125</td>\n",
       "      <td>100.062</td>\n",
       "      <td>100.125</td>\n",
       "      <td>54</td>\n",
       "      <td>9.0</td>\n",
       "    </tr>\n",
       "    <tr>\n",
       "      <th>10</th>\n",
       "      <td>1998-12-31</td>\n",
       "      <td>5.125</td>\n",
       "      <td>99.625</td>\n",
       "      <td>99.6875</td>\n",
       "      <td>60</td>\n",
       "      <td>10.0</td>\n",
       "    </tr>\n",
       "  </tbody>\n",
       "</table>\n",
       "</div>"
      ],
      "text/plain": [
       "0    maturity coupon bid_price ask_price  monthly_term  num_payments\n",
       "1  1994-06-30      0   98.3911   98.4012             6           1.0\n",
       "2  1994-12-31  7.625   103.812   103.875            12           2.0\n",
       "3  1995-06-30  4.125   100.188    100.25            18           3.0\n",
       "4  1995-12-31   4.25       100   100.062            24           4.0\n",
       "5  1996-06-30  7.875   108.688    108.75            30           5.0\n",
       "6  1996-12-31  6.125   104.531   104.594            36           6.0\n",
       "7  1997-06-30  6.375   105.156   105.219            42           7.0\n",
       "8  1997-12-31      6   103.781   103.844            48           8.0\n",
       "9  1998-06-30  5.125   100.062   100.125            54           9.0\n",
       "10 1998-12-31  5.125    99.625   99.6875            60          10.0"
      ]
     },
     "execution_count": 79,
     "metadata": {},
     "output_type": "execute_result"
    }
   ],
   "source": [
    "df"
   ]
  },
  {
   "cell_type": "code",
   "execution_count": 84,
   "metadata": {},
   "outputs": [
    {
     "name": "stdout",
     "output_type": "stream",
     "text": [
      "[1, 2, 3, 4, 5, 6, 7, 8, 9, 10]\n"
     ]
    }
   ],
   "source": [
    "x = list(range(1, 11))\n",
    "print(x)"
   ]
  },
  {
   "cell_type": "code",
   "execution_count": 66,
   "metadata": {},
   "outputs": [
    {
     "data": {
      "text/plain": [
       "98.3911"
      ]
     },
     "execution_count": 66,
     "metadata": {},
     "output_type": "execute_result"
    }
   ],
   "source": [
    "df['bid_price'].iloc[0]"
   ]
  },
  {
   "cell_type": "code",
   "execution_count": null,
   "metadata": {},
   "outputs": [],
   "source": [
    "#finding the discount factors for each bid-ask price to create the curves\n",
    "df_bid = []\n",
    "df_ask = []\n",
    "#df_bid[0] = ((100/df['bid_price'].iloc[0])**(1/n)) - 1\n",
    "#df_ask[0] = ((100/df['ask_price'].iloc[0])**(1/n)) - 1\n",
    "df_bid[0] = df['bid_price'].iloc[0]*(1/(1+.5)) \n",
    "df_ask[0] ="
   ]
  },
  {
   "cell_type": "code",
   "execution_count": 69,
   "metadata": {},
   "outputs": [
    {
     "data": {
      "text/plain": [
       "Int64Index([1, 2, 3, 4, 5, 6, 7, 8, 9], dtype='int64')"
      ]
     },
     "execution_count": 69,
     "metadata": {},
     "output_type": "execute_result"
    }
   ],
   "source": [
    "def discount_factor(price, coupon, term)"
   ]
  },
  {
   "cell_type": "code",
   "execution_count": null,
   "metadata": {},
   "outputs": [],
   "source": [
    "for i in df.index[:-1]:\n",
    "    \n",
    "    "
   ]
  }
 ],
 "metadata": {
  "kernelspec": {
   "display_name": "Python 3",
   "language": "python",
   "name": "python3"
  },
  "language_info": {
   "codemirror_mode": {
    "name": "ipython",
    "version": 3
   },
   "file_extension": ".py",
   "mimetype": "text/x-python",
   "name": "python",
   "nbconvert_exporter": "python",
   "pygments_lexer": "ipython3",
   "version": "3.6.6"
  },
  "toc": {
   "base_numbering": 1,
   "nav_menu": {},
   "number_sections": true,
   "sideBar": true,
   "skip_h1_title": false,
   "title_cell": "Table of Contents",
   "title_sidebar": "Contents",
   "toc_cell": false,
   "toc_position": {},
   "toc_section_display": true,
   "toc_window_display": false
  }
 },
 "nbformat": 4,
 "nbformat_minor": 2
}
