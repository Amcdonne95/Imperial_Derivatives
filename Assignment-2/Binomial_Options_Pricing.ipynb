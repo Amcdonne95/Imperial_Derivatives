{
 "cells": [
  {
   "cell_type": "markdown",
   "metadata": {},
   "source": [
    "### Header Code"
   ]
  },
  {
   "cell_type": "code",
   "execution_count": 1,
   "metadata": {},
   "outputs": [
    {
     "data": {
      "text/html": [
       "<style>.container { width:95% !important; }</style>"
      ],
      "text/plain": [
       "<IPython.core.display.HTML object>"
      ]
     },
     "metadata": {},
     "output_type": "display_data"
    }
   ],
   "source": [
    "from IPython.core.display import display, HTML\n",
    "display(HTML(\"<style>.container { width:95% !important; }</style>\"))\n",
    "import pandas as pd\n",
    "import numpy as np\n",
    "from dateutil.relativedelta import relativedelta\n",
    "from datetime import datetime\n",
    "import plotly.graph_objs as go\n",
    "import math"
   ]
  },
  {
   "cell_type": "markdown",
   "metadata": {},
   "source": [
    "## BAPM Functions"
   ]
  },
  {
   "cell_type": "code",
   "execution_count": 83,
   "metadata": {},
   "outputs": [],
   "source": [
    "#generates the stock price vector for the BAPM function\n",
    "def generate_stockPrices(u, d, row, col, matrix):\n",
    "    if ((row == 0) and (col == 0)):\n",
    "                matrix[row][col] = 1\n",
    "    if col - row < 0:\n",
    "        matrix[row][col] = 0\n",
    "    else:\n",
    "        matrix[row][col] = u**(col - row) * d**(row)\n",
    "    return matrix"
   ]
  },
  {
   "cell_type": "code",
   "execution_count": 84,
   "metadata": {},
   "outputs": [],
   "source": [
    "#generates the state price vector for the BAPM function\n",
    "def generate_statePrices(q, row, col, matrix):\n",
    "    if col == row:\n",
    "        matrix[row][col] = q    \n",
    "    if col - row == -1:\n",
    "        matrix[col][row] = 1-q\n",
    "    return matrix"
   ]
  },
  {
   "cell_type": "code",
   "execution_count": 86,
   "metadata": {},
   "outputs": [],
   "source": [
    "def bapm(optionType, curPrice, strikePrice, volatility, monthTerm, riskFree, numPeriods):\n",
    "    #setting variables\n",
    "    timeStep = monthTerm/numPeriods\n",
    "    volatility = volatility/(np.sqrt(252/21*timeStep))#scaling the volatility based on timeStep and months term for the option\n",
    "    u = np.exp(volatility)\n",
    "    d = u**-1\n",
    "    q = (np.exp(riskFree*timeStep) - d)/(u-d)\n",
    "    \n",
    "    \n",
    "    priceMatrix = np.zeros((numPeriods+1, numPeriods+1))\n",
    "    statePrices = np.zeros((numPeriods+1, numPeriods+1))\n",
    "    \n",
    "    for i in range(0, numPeriods + 1):#row loop\n",
    "        for j in range(0, numPeriods + 1):#col loop\n",
    "            #I chose to loop through the cols first and then rows\n",
    "            statePrices = generate_statePrices(q=q, row=i, col=j, matrix=statePrices)\n",
    "            priceMatrix = generate_stockPrices(u=u, d=d, row=i, col=j, matrix=priceMatrix)\n",
    "    #############################################################################################################\n",
    "    #TESTING FUNCTIONS\n",
    "    #print('U^n: ', u**numPeriods)#check to tie out\n",
    "    #print('D^n: ', d**numPeriods)\n",
    "    #print('q: ', q)\n",
    "    #print('1-q', 1-q)\n",
    "    #print(priceMatrix)\n",
    "    #print('\\n', statePrices)\n",
    "    #########################################################################################################\n",
    "    if str(optionType) == ('American' or 'american'):\n",
    "        #TODO: Build american oprion pricing function\n",
    "        print('x')\n",
    "    if str(optionType) == ('European', 'european'):\n",
    "        #TODO: Build european pricing function\n",
    "        print('x')"
   ]
  },
  {
   "cell_type": "code",
   "execution_count": 87,
   "metadata": {},
   "outputs": [],
   "source": [
    "bapm(optionType='european', strikePrice=40, curPrice=40, volatility=.3, monthTerm=6, riskFree=.04, numPeriods=5)"
   ]
  },
  {
   "cell_type": "code",
   "execution_count": null,
   "metadata": {},
   "outputs": [],
   "source": []
  },
  {
   "cell_type": "code",
   "execution_count": null,
   "metadata": {},
   "outputs": [],
   "source": []
  }
 ],
 "metadata": {
  "kernelspec": {
   "display_name": "Python 3",
   "language": "python",
   "name": "python3"
  },
  "language_info": {
   "codemirror_mode": {
    "name": "ipython",
    "version": 3
   },
   "file_extension": ".py",
   "mimetype": "text/x-python",
   "name": "python",
   "nbconvert_exporter": "python",
   "pygments_lexer": "ipython3",
   "version": "3.6.6"
  },
  "toc": {
   "base_numbering": 1,
   "nav_menu": {},
   "number_sections": true,
   "sideBar": true,
   "skip_h1_title": false,
   "title_cell": "Table of Contents",
   "title_sidebar": "Contents",
   "toc_cell": false,
   "toc_position": {
    "height": "calc(100% - 180px)",
    "left": "10px",
    "top": "150px",
    "width": "220.597px"
   },
   "toc_section_display": true,
   "toc_window_display": false
  }
 },
 "nbformat": 4,
 "nbformat_minor": 2
}
