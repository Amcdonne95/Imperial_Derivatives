{
 "cells": [
  {
   "cell_type": "markdown",
   "metadata": {},
   "source": [
    "### Header Code"
   ]
  },
  {
   "cell_type": "code",
   "execution_count": 25,
   "metadata": {},
   "outputs": [
    {
     "data": {
      "text/html": [
       "<style>.container { width:95% !important; }</style>"
      ],
      "text/plain": [
       "<IPython.core.display.HTML object>"
      ]
     },
     "metadata": {},
     "output_type": "display_data"
    }
   ],
   "source": [
    "from IPython.core.display import display, HTML\n",
    "display(HTML(\"<style>.container { width:95% !important; }</style>\"))\n",
    "import pandas as pd\n",
    "import numpy as np\n",
    "from dateutil.relativedelta import relativedelta\n",
    "from datetime import datetime\n",
    "import plotly.graph_objs as go\n",
    "import math\n",
    "import time\n",
    "from scipy.optimize import fmin\n",
    "from scipy.optimize import minimize"
   ]
  },
  {
   "cell_type": "markdown",
   "metadata": {},
   "source": [
    "## BAPM Functions"
   ]
  },
  {
   "cell_type": "code",
   "execution_count": 8,
   "metadata": {},
   "outputs": [],
   "source": [
    "#generates the stock price vector for the BAPM function\n",
    "def generate_stockPrices(u, d, row, col, matrix):\n",
    "    if row > col:\n",
    "        return matrix\n",
    "    if ((row == 0) and (col == 0)):\n",
    "                matrix[row][col] = 1\n",
    "    else:\n",
    "        matrix[row][col] = u**(col - row) * d**(row)\n",
    "    return matrix"
   ]
  },
  {
   "cell_type": "code",
   "execution_count": 9,
   "metadata": {},
   "outputs": [],
   "source": [
    "#generates the state price vector for the BAPM function\n",
    "def generate_statePrices(q, row, col, matrix):\n",
    "    if col == row:\n",
    "        matrix[row][col] = q    \n",
    "    if col - row == -1:\n",
    "        matrix[col][row] = 1-q\n",
    "    return matrix"
   ]
  },
  {
   "cell_type": "code",
   "execution_count": 10,
   "metadata": {},
   "outputs": [],
   "source": [
    "def generate_finalValue(call, strikePrice, value):\n",
    "    if call:\n",
    "        value = value - strikePrice\n",
    "    else:\n",
    "        value = strikePrice - value\n",
    "    return np.clip(value, a_min=0, a_max=None)"
   ]
  },
  {
   "cell_type": "code",
   "execution_count": 14,
   "metadata": {},
   "outputs": [],
   "source": [
    "def generate_optionPrices(optionType, strikePrice, valueMatrix, q, discount):\n",
    "    #print(valueMatrix.shape[1])\n",
    "    for j in range(valueMatrix.shape[1]-1, 0, -1):#loop backwards through columns first\n",
    "        for i in range(1, valueMatrix.shape[0]):#loop downwards through rows; saves final spot of [0,0]\n",
    "            if i > j:\n",
    "                continue\n",
    "            if not optionType:#european option pricing\n",
    "                valueMatrix[i-1][j-1] = discount*(q*valueMatrix[i-1][j] + (1-q)*valueMatrix[i][j])\n",
    "                \n",
    "            if optionType:#american option pricing\n",
    "                continiousValue = discount*(q*valueMatrix[i-1][j] + (1-q)*valueMatrix[i][j])\n",
    "                exerciseValue = priceMatrix[i-1][j-1] - strikePrice\n",
    "                valueMatrix[i-1][j-1] = max(exerciseValue, continiousValue)\n",
    "                \n",
    "    return valueMatrix"
   ]
  },
  {
   "cell_type": "code",
   "execution_count": 52,
   "metadata": {},
   "outputs": [],
   "source": [
    "def bapm(curPrice, strikePrice, volatility, monthTerm, riskFree, numPeriods):\n",
    "    #print('0: Put\\n1: Call')\n",
    "    \n",
    "    call = 1\n",
    "    while call not in [0, 1]:\n",
    "        call = int(input('Select a 0 or 1: '))\n",
    "    \n",
    "    #print('\\n0: European\\n1: American')\n",
    "    optionType = 0\n",
    "    while optionType not in [0, 1]:\n",
    "        optionType = int(input('Select a 0 or 1 for option type: '))\n",
    "        \n",
    "    start = time.clock()\n",
    "    #setting variables\n",
    "    timeStep = monthTerm/numPeriods\n",
    "    #volatility = np.sqrt((volatility**2)/(12/timeStep))#scaling the volatility based on timeStep and months term for the option\n",
    "    #not sure which time frame for vol to use, 3 months or 6 months\n",
    "    u = np.exp(volatility/(np.sqrt(6)))\n",
    "    d = u**-1\n",
    "    q = (np.exp(riskFree*timeStep) - d)/(u-d)\n",
    "    discount = np.exp(-riskFree*timeStep)\n",
    "    \n",
    "    priceMatrix = np.zeros((numPeriods+1, numPeriods+1))\n",
    "    statePrices = np.zeros((numPeriods+1, numPeriods+1))\n",
    "    \n",
    "    for i in range(0, numPeriods + 1):#row loop\n",
    "        for j in range(0, numPeriods + 1):#col loop\n",
    "            #I chose to loop through the cols first and then rows\n",
    "            statePrices = generate_statePrices(q=q, row=i, col=j, matrix=statePrices)\n",
    "            priceMatrix = generate_stockPrices(u=u, d=d, row=i, col=j, matrix=priceMatrix)\n",
    "    \n",
    "    priceMatrix = curPrice*priceMatrix\n",
    "    \n",
    "    valueMatrix = np.zeros((numPeriods+1, numPeriods+1))\n",
    "    valueMatrix[:, -1] = generate_finalValue(call=call, strikePrice=strikePrice, value=priceMatrix[:, -1])\n",
    "    \n",
    "    optionPrices = generate_optionPrices(optionType=optionType, strikePrice=strikePrice, valueMatrix=valueMatrix, q=q, discount=discount)\n",
    "    \n",
    "    #############################################################################################################\n",
    "    #TESTING FUNCTIONS\n",
    "    #print('Price Matrix:\\n', priceMatrix, '\\n')\n",
    "    #print('Value Matrix:\\n', valueMatrix)\n",
    "    #print('State Prices Matrix:\\n', statePrices, '\\n')\n",
    "    #print('Option Value --  State Prices Method --:\\n', np.dot((discount*statePrices)**numPeriods, valueMatrix[:, -1]), '\\n')\n",
    "    print('Option Values -- backwards loop --:\\n', optionPrices)\n",
    "    #########################################################################################################\n",
    "    end = time.clock()\n",
    "    #print(\"Time Elapsed: \", end-start)\n",
    "    \n",
    "    return optionPrices[0][0]"
   ]
  },
  {
   "cell_type": "code",
   "execution_count": 19,
   "metadata": {
    "collapsed": true
   },
   "outputs": [
    {
     "name": "stdout",
     "output_type": "stream",
     "text": [
      "0: Put\n",
      "1: Call\n",
      "Select a 0 or 1: 1\n",
      "\n",
      "0: European\n",
      "1: American\n",
      "Select a 0 or 1 for option type: 0\n",
      "Price Matrix:\n",
      " [[40.         43.98056289 48.35724781 53.16947447 58.4605854  64.27823633]\n",
      " [ 0.         36.37970719 40.         43.98056289 48.35724781 53.16947447]\n",
      " [ 0.          0.         33.08707737 36.37970719 40.         43.98056289]\n",
      " [ 0.          0.          0.         30.09245466 33.08707737 36.37970719]\n",
      " [ 0.          0.          0.          0.         27.36886723 30.09245466]\n",
      " [ 0.          0.          0.          0.          0.         24.8917844 ]] \n",
      "\n",
      "State Prices Matrix:\n",
      " [[0.73506448 0.26493552 0.         0.         0.         0.        ]\n",
      " [0.         0.73506448 0.26493552 0.         0.         0.        ]\n",
      " [0.         0.         0.73506448 0.26493552 0.         0.        ]\n",
      " [0.         0.         0.         0.73506448 0.26493552 0.        ]\n",
      " [0.         0.         0.         0.         0.73506448 0.26493552]\n",
      " [0.         0.         0.         0.         0.         0.73506448]] \n",
      "\n",
      "Option Value --  State Prices Method --:\n",
      " [4.11191526 2.22721754 0.67195624 0.         0.         0.        ] \n",
      "\n",
      "Option Values -- backwards loop --:\n",
      " [[ 8.97766299 11.17194037 13.78003216 16.83091383 20.33523392 24.27823633]\n",
      " [ 0.          4.55584078  6.00923517  7.87285328 10.23189633 13.16947447]\n",
      " [ 0.          0.          1.36893363  1.95390341  2.78884123  3.98056289]\n",
      " [ 0.          0.          0.          0.          0.          0.        ]\n",
      " [ 0.          0.          0.          0.          0.          0.        ]\n",
      " [ 0.          0.          0.          0.          0.          0.        ]]\n",
      "Time Elapsed:  0.004019199999987677\n"
     ]
    },
    {
     "data": {
      "text/plain": [
       "8.977662990645424"
      ]
     },
     "execution_count": 19,
     "metadata": {},
     "output_type": "execute_result"
    }
   ],
   "source": [
    "bapm(strikePrice=40, curPrice=40, volatility=.3, monthTerm=6, riskFree=.04, numPeriods=5)"
   ]
  },
  {
   "cell_type": "code",
   "execution_count": 55,
   "metadata": {},
   "outputs": [],
   "source": [
    "def findVol(vol):\n",
    "    calculatedPrice = bapm(strikePrice=40, curPrice=40, volatility=vol, monthTerm=6, riskFree=.04, numPeriods=2)\n",
    "    realPrice = 4.03552\n",
    "    \n",
    "    return calculatedPrice - realPrice"
   ]
  },
  {
   "cell_type": "code",
   "execution_count": 56,
   "metadata": {},
   "outputs": [
    {
     "name": "stdout",
     "output_type": "stream",
     "text": [
      "Option Values -- backwards loop --:\n",
      " [[ 8.53577017  9.73479384 11.10224493]\n",
      " [ 0.          0.          0.        ]\n",
      " [ 0.          0.          0.        ]]\n",
      "Option Values -- backwards loop --:\n",
      " [[ 8.53577018  9.73479412 11.10224555]\n",
      " [ 0.          0.          0.        ]\n",
      " [ 0.          0.          0.        ]]\n",
      "Option Values -- backwards loop --:\n",
      " [[ 8.53577017  9.73479384 11.10224493]\n",
      " [ 0.          0.          0.        ]\n",
      " [ 0.          0.          0.        ]]\n",
      "Option Values -- backwards loop --:\n",
      " [[60.93593084  4.70436497  0.36318555]\n",
      " [ 0.          0.          0.        ]\n",
      " [ 0.          0.          0.        ]]\n",
      "Option Values -- backwards loop --:\n",
      " [[60.93593084  4.70436497  0.36318555]\n",
      " [ 0.          0.          0.        ]\n",
      " [ 0.          0.          0.        ]]\n",
      "Option Values -- backwards loop --:\n",
      " [[60.93585478  4.70436521  0.36318604]\n",
      " [ 0.          0.          0.        ]\n",
      " [ 0.          0.          0.        ]]\n",
      "Option Values -- backwards loop --:\n",
      " [[8.79711032 8.05504236 7.37557051]\n",
      " [0.         0.         0.        ]\n",
      " [0.         0.         0.        ]]\n",
      "Option Values -- backwards loop --:\n",
      " [[8.79711032 8.05504236 7.37557051]\n",
      " [0.         0.         0.        ]\n",
      " [0.         0.         0.        ]]\n",
      "Option Values -- backwards loop --:\n",
      " [[8.79711021 8.05504263 7.37557109]\n",
      " [0.         0.         0.        ]\n",
      " [0.         0.         0.        ]]\n",
      "Option Values -- backwards loop --:\n",
      " [[ 8.53488823  9.62913385 10.86367111]\n",
      " [ 0.          0.          0.        ]\n",
      " [ 0.          0.          0.        ]]\n",
      "Option Values -- backwards loop --:\n",
      " [[ 8.53488823  9.62913385 10.86367111]\n",
      " [ 0.          0.          0.        ]\n",
      " [ 0.          0.          0.        ]]\n",
      "Option Values -- backwards loop --:\n",
      " [[ 8.53488823  9.62913413 10.86367173]\n",
      " [ 0.          0.          0.        ]\n",
      " [ 0.          0.          0.        ]]\n",
      "Option Values -- backwards loop --:\n",
      " [[ 8.53488556  9.62286673 10.84953786]\n",
      " [ 0.          0.          0.        ]\n",
      " [ 0.          0.          0.        ]]\n",
      "Option Values -- backwards loop --:\n",
      " [[ 8.53488556  9.62286673 10.84953786]\n",
      " [ 0.          0.          0.        ]\n",
      " [ 0.          0.          0.        ]]\n",
      "Option Values -- backwards loop --:\n",
      " [[ 8.53488556  9.622867   10.84953848]\n",
      " [ 0.          0.          0.        ]\n",
      " [ 0.          0.          0.        ]]\n",
      "Option Values -- backwards loop --:\n",
      " [[ 8.53488556  9.62305672 10.84996629]\n",
      " [ 0.          0.          0.        ]\n",
      " [ 0.          0.          0.        ]]\n",
      "Option Values -- backwards loop --:\n",
      " [[ 8.53488556  9.62305672 10.84996629]\n",
      " [ 0.          0.          0.        ]\n",
      " [ 0.          0.          0.        ]]\n",
      "Option Values -- backwards loop --:\n",
      " [[ 8.53488556  9.62305699 10.84996691]\n",
      " [ 0.          0.          0.        ]\n",
      " [ 0.          0.          0.        ]]\n"
     ]
    }
   ],
   "source": [
    "parameters = [.3]\n",
    "res = minimize(fun=findVol, x0=parameters)"
   ]
  },
  {
   "cell_type": "code",
   "execution_count": 57,
   "metadata": {},
   "outputs": [
    {
     "name": "stdout",
     "output_type": "stream",
     "text": [
      "Parameters:  [0.29393878]\n"
     ]
    }
   ],
   "source": [
    "print('Parameters: ', res.x)"
   ]
  }
 ],
 "metadata": {
  "kernelspec": {
   "display_name": "Python 3",
   "language": "python",
   "name": "python3"
  },
  "language_info": {
   "codemirror_mode": {
    "name": "ipython",
    "version": 3
   },
   "file_extension": ".py",
   "mimetype": "text/x-python",
   "name": "python",
   "nbconvert_exporter": "python",
   "pygments_lexer": "ipython3",
   "version": "3.6.6"
  },
  "toc": {
   "base_numbering": 1,
   "nav_menu": {},
   "number_sections": true,
   "sideBar": true,
   "skip_h1_title": false,
   "title_cell": "Table of Contents",
   "title_sidebar": "Contents",
   "toc_cell": false,
   "toc_position": {
    "height": "calc(100% - 180px)",
    "left": "10px",
    "top": "150px",
    "width": "220.597px"
   },
   "toc_section_display": true,
   "toc_window_display": false
  }
 },
 "nbformat": 4,
 "nbformat_minor": 2
}
